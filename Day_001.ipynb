{
 "cells": [
  {
   "cell_type": "code",
   "execution_count": 1,
   "metadata": {},
   "outputs": [],
   "source": [
    "#練習\n",
    "\n",
    "import cv2\n",
    "\n",
    "image_path =\"C:\\\\Users\\\\edith_lin\\\\Desktop\\\\lena.png\"\n",
    "\n",
    "# 以彩色圖片的方式載入\n",
    "image = cv2.imread(image_path, cv2.IMREAD_COLOR)\n",
    "\n",
    "# 以灰階圖片的方式載入\n",
    "img_gray = cv2.imread(image_path, cv2.IMREAD_GRAYSCALE)\n",
    "\n",
    "# 為了要不斷顯示圖片，所以使用一個迴圈\n",
    "while True:\n",
    "    #顯示彩色\n",
    "    cv2.imshow(\"bgr\", image)\n",
    "    #顯示灰色\n",
    "#     cv2.imshow('gray', img_gray)\n",
    "    \n",
    "    #按下ESC才會自動關閉視窗結束程式\n",
    "    k = cv2.waitKey(0)\n",
    "    if k == 27:\n",
    "        cv2.destroyWindow(\"bgr\")\n",
    "        break"
   ]
  },
  {
   "cell_type": "markdown",
   "metadata": {},
   "source": [
    "### 功課\n",
    "- 思考一下我們前面有提到圖片是矩陣，但維度可能會不一樣 例如灰階圖只有兩個維度，RGB 彩圖則有 3 個維度\n",
    "- 假如今天我們把 RGB 3 個維度拆開來看會有甚麼不同的效果呢？"
   ]
  },
  {
   "cell_type": "markdown",
   "metadata": {},
   "source": [
    "### ANS\n",
    "- 一個像素擁有三個數值，代表紅光、綠光、藍光的亮度；簡稱 RGB ，紅綠藍的首字母。\n",
    "- 三個疊合會變成白光(255, 255, 255)\n",
    "- 分開看\n",
    "    - (255, 0, 0)-紅光 \n",
    "    - (0, 255, 0)-綠光\n",
    "    - (0, 0, 255)-藍光\n"
   ]
  },
  {
   "cell_type": "code",
   "execution_count": 5,
   "metadata": {},
   "outputs": [],
   "source": [
    "import cv2\n",
    "import numpy as np\n",
    "\n",
    "img_path = './D1/Part01/lena.png'\n",
    "\n",
    "# 以彩色圖片的方式載入\n",
    "img = cv2.imread(img_path, cv2.IMREAD_COLOR)\n",
    "\n",
    "# 把圖片合併起來方便一起看\n",
    "img_concat = np.hstack((img[:, :, 0], img[:, :, 1], img[:, :, 2]))\n",
    "\n",
    "# 為了要不斷顯示圖片，所以使用一個迴圈\n",
    "while True:\n",
    "    # 顯示彩圖\n",
    "    cv2.imshow('bgr', img)\n",
    "    cv2.imshow('bgr_split', img_concat)\n",
    "\n",
    "    # 直到按下 ESC 鍵才會自動關閉視窗結束程式\n",
    "    k = cv2.waitKey(0)\n",
    "    if k == 27:\n",
    "        cv2.destroyAllWindows()\n",
    "        break"
   ]
  },
  {
   "cell_type": "code",
   "execution_count": null,
   "metadata": {},
   "outputs": [],
   "source": []
  }
 ],
 "metadata": {
  "kernelspec": {
   "display_name": "Python 3",
   "language": "python",
   "name": "python3"
  },
  "language_info": {
   "codemirror_mode": {
    "name": "ipython",
    "version": 3
   },
   "file_extension": ".py",
   "mimetype": "text/x-python",
   "name": "python",
   "nbconvert_exporter": "python",
   "pygments_lexer": "ipython3",
   "version": "3.7.5"
  }
 },
 "nbformat": 4,
 "nbformat_minor": 2
}
